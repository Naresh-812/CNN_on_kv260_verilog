{
 "cells": [
  {
   "cell_type": "markdown",
   "id": "a063ada3",
   "metadata": {},
   "source": [
    "## 1. Load Model\n",
    "Load the CNN model with trained weight and bias from the .pt file."
   ]
  },
  {
   "cell_type": "code",
   "execution_count": 1,
   "id": "aab670b1",
   "metadata": {},
   "outputs": [],
   "source": [
    "import torch\n",
    "import torch.nn as nn\n",
    "import torch.nn.functional as F\n",
    "from torch.autograd import Variable\n",
    "import numpy as np"
   ]
  },
  {
   "cell_type": "code",
   "execution_count": 2,
   "id": "bbabb837",
   "metadata": {},
   "outputs": [],
   "source": [
    "import warnings\n",
    "warnings.filterwarnings('ignore')"
   ]
  },
  {
   "cell_type": "code",
   "execution_count": 3,
   "id": "6cf3d6f4",
   "metadata": {},
   "outputs": [],
   "source": [
    "# CNN class\n",
    "class CNN(nn.Module):\n",
    "     # Initialization\n",
    "    def __init__(self):\n",
    "        super (CNN, self).__init__()\n",
    "        \n",
    "        self.conv1_out_np = np.zeros((1, 3, 24, 24))\n",
    "        self.mp1_out_np = np.zeros((1, 3, 12, 12))\n",
    "        self.conv2_out_np = np.zeros((1, 3, 8, 8))\n",
    "        self.mp2_out_np = np.zeros((1, 3, 4, 4))\n",
    "        self.fc_in_np = np.zeros((1, 48))\n",
    "        self.fc_out_np = np.zeros((1, 10))\n",
    "        \n",
    "        # 1st Convolution Layer\n",
    "        # Image Input Shape -> (28, 28, 1)\n",
    "        # Convolution Layer -> (24, 24, 3)\n",
    "        # Pooling Max Layer -> (12, 12, 3)\n",
    "        self.conv1 = nn.Conv2d(1, 3, kernel_size=5)\n",
    "        \n",
    "        # 2nd Convolution Layer\n",
    "        # Image Input Shape -> (12, 12, 3)\n",
    "        # Convolution Layer -> (8, 8, 3)\n",
    "        # pooling Max Layer -> (4, 4, 3)\n",
    "        self.conv2 = nn.Conv2d(3, 3, kernel_size=5)\n",
    "        \n",
    "        # Max Pooling Layer\n",
    "        self.mp = nn.MaxPool2d(2)\n",
    "        \n",
    "        # Fully Connected Layer\n",
    "        # Num of Weight = 480\n",
    "        self.fc_1 = nn.Linear(48, 10)\n",
    "        \n",
    "    def forward(self, x):\n",
    "        in_size = x.size(0)\n",
    "        \n",
    "        # Layer Integration\n",
    "        x = self.conv1(x)\n",
    "        self.conv1_out_np = x.detach().numpy()\n",
    "        \n",
    "        x = F.relu(self.mp(x))\n",
    "        self.mp1_out_np = x.detach().numpy()\n",
    "\n",
    "        x = self.conv2(x)\n",
    "        self.conv2_out_np = x.detach().numpy()\n",
    "        \n",
    "        x = F.relu(self.mp(x))\n",
    "        self.mp2_out_np = x.detach().numpy()\n",
    "        \n",
    "        # Flatten Layer\n",
    "        x = x.view(in_size, -1)\n",
    "        self.fc_in_np = x.detach().numpy()\n",
    "        \n",
    "        # Fully Connected Layer\n",
    "        x = self.fc_1(x)\n",
    "        self.fc_out_np = x.detach().numpy()\n",
    "        \n",
    "        return F.log_softmax(x)"
   ]
  },
  {
   "cell_type": "code",
   "execution_count": 4,
   "id": "62a2c88c",
   "metadata": {},
   "outputs": [
    {
     "name": "stdout",
     "output_type": "stream",
     "text": [
      "CNN(\n",
      "  (conv1): Conv2d(1, 3, kernel_size=(5, 5), stride=(1, 1))\n",
      "  (conv2): Conv2d(3, 3, kernel_size=(5, 5), stride=(1, 1))\n",
      "  (mp): MaxPool2d(kernel_size=2, stride=2, padding=0, dilation=1, ceil_mode=False)\n",
      "  (fc_1): Linear(in_features=48, out_features=10, bias=True)\n",
      ")\n"
     ]
    }
   ],
   "source": [
    "# Load model\n",
    "model = torch.load(\"/home/ubuntu/workspace/cnn_mnist.pt\", weights_only=False)\n",
    "model.eval()\n",
    "print(model)"
   ]
  },
  {
   "cell_type": "markdown",
   "id": "eb4f8050",
   "metadata": {},
   "source": [
    "## 2. Testing using Bitmap Image in SW\n",
    "Test the model (SW) to classify a digit from .bmp image."
   ]
  },
  {
   "cell_type": "code",
   "execution_count": 5,
   "id": "0cff70ca",
   "metadata": {},
   "outputs": [],
   "source": [
    "import re\n",
    "import base64\n",
    "import io\n",
    "from PIL import Image\n",
    "from matplotlib import pyplot"
   ]
  },
  {
   "cell_type": "code",
   "execution_count": 6,
   "id": "d3af67d4",
   "metadata": {},
   "outputs": [
    {
     "data": {
      "text/plain": [
       "<matplotlib.image.AxesImage at 0xffff67ade140>"
      ]
     },
     "execution_count": 6,
     "metadata": {},
     "output_type": "execute_result"
    },
    {
     "data": {
      "image/png": "[encoded data removed]",
      "text/plain": [
       "<Figure size 432x288 with 1 Axes>"
      ]
     },
     "metadata": {
      "needs_background": "light"
     },
     "output_type": "display_data"
    }
   ],
   "source": [
    "# Get bitmap data\n",
    "img = Image.open(\"/home/ubuntu/workspace/bmp/train_0.bmp\", \"r\")\n",
    "np_img = np.array(img)\n",
    "pyplot.imshow(np_img, cmap=pyplot.get_cmap('gray'))"
   ]
  },
  {
   "cell_type": "code",
   "execution_count": null,
   "id": "a5d53ce1",
   "metadata": {},
   "outputs": [],
   "source": [
    "# Prepare data input\n",
    "np_img_re_sw = np.reshape(np_img, (1,1,28,28))\n",
    "data = Variable(torch.tensor((np_img_re_sw / 255), dtype = torch.float32))"
   ]
  },
  {
   "cell_type": "code",
   "execution_count": 8,
   "id": "bce3ee28",
   "metadata": {},
   "outputs": [
    {
     "name": "stdout",
     "output_type": "stream",
     "text": [
      "Predicted output: 5\n"
     ]
    }
   ],
   "source": [
    "# Output of feedforwarding\n",
    "output = model(data)\n",
    "pred = output.data.max(1, keepdim=True)[1]\n",
    "print('Predicted output: ' + ', '.join(map(str, pred.flatten().tolist())))"
   ]
  },
  {
   "cell_type": "code",
   "execution_count": 9,
   "id": "64edc782",
   "metadata": {},
   "outputs": [],
   "source": [
    "from time import time"
   ]
  },
  {
   "cell_type": "code",
   "execution_count": 10,
   "id": "87da9575",
   "metadata": {},
   "outputs": [
    {
     "name": "stdout",
     "output_type": "stream",
     "text": [
      "Time used for SW CNN: 0.015293598175048828s\n"
     ]
    }
   ],
   "source": [
    "# Calculate computation time for SW based CNN\n",
    "t1 = time()\n",
    "output = model(data)\n",
    "t2 = time()\n",
    "t_diff_sw = t2 - t1\n",
    "print('Time used for SW CNN: {}s'.format(t_diff_sw))"
   ]
  },
  {
   "cell_type": "markdown",
   "id": "d0f8e193",
   "metadata": {},
   "source": [
    "## 3. Program Bitstream\n",
    "Program the bitstream to the FPGA."
   ]
  },
  {
   "cell_type": "code",
   "execution_count": 11,
   "id": "7954ecba",
   "metadata": {},
   "outputs": [],
   "source": [
    "from pynq import Overlay\n",
    "from pynq import MMIO\n",
    "from pynq import allocate"
   ]
  },
  {
   "cell_type": "code",
   "execution_count": 12,
   "id": "d5a0b9d2",
   "metadata": {},
   "outputs": [
    {
     "data": {
      "application/javascript": "\ntry {\nrequire(['notebook/js/codecell'], function(codecell) {\n  codecell.CodeCell.options_default.highlight_modes[\n      'magic_text/x-csrc'] = {'reg':[/^%%microblaze/]};\n  Jupyter.notebook.events.one('kernel_ready.Kernel', function(){\n      Jupyter.notebook.get_cells().map(function(cell){\n          if (cell.cell_type == 'code'){ cell.auto_highlight(); } }) ;\n  });\n});\n} catch (e) {};\n"
     },
     "metadata": {},
     "output_type": "display_data"
    },
    {
     "data": {
      "application/javascript": "\ntry {\nrequire(['notebook/js/codecell'], function(codecell) {\n  codecell.CodeCell.options_default.highlight_modes[\n      'magic_text/x-csrc'] = {'reg':[/^%%pybind11/]};\n  Jupyter.notebook.events.one('kernel_ready.Kernel', function(){\n      Jupyter.notebook.get_cells().map(function(cell){\n          if (cell.cell_type == 'code'){ cell.auto_highlight(); } }) ;\n  });\n});\n} catch (e) {};\n"
     },
     "metadata": {},
     "output_type": "display_data"
    }
   ],
   "source": [
    "# Program bitstream to FPGA\n",
    "overlay = Overlay('/home/ubuntu/workspace/cnn_mnist.bit')\n",
    "\n",
    "# Access to AXI DMA\n",
    "dma = overlay.axi_dma_0\n",
    "dma_send = overlay.axi_dma_0.sendchannel\n",
    "dma_recv = overlay.axi_dma_0.recvchannel\n",
    "\n",
    "# Allocate physical memory\n",
    "input_buffer = allocate(shape=(784,), dtype=np.uint8)\n",
    "output_buffer = allocate(shape=(1,), dtype=np.uint8)"
   ]
  },
  {
   "cell_type": "markdown",
   "id": "30b526e4",
   "metadata": {},
   "source": [
    "## 4. Testing using Bitmap Image in HW\n",
    "Test the HW accelerator to classify a digit from .bmp image."
   ]
  },
  {
   "cell_type": "code",
   "execution_count": 13,
   "id": "782425b9",
   "metadata": {},
   "outputs": [],
   "source": [
    "# Write input to physical memory\n",
    "np_img_re_hw = np.reshape(np_img, (1,1,1,784))\n",
    "for i in range(784):\n",
    "    input_buffer[i] = np_img_re_hw[0][0][0][i]"
   ]
  },
  {
   "cell_type": "code",
   "execution_count": 14,
   "id": "f25fb42e",
   "metadata": {},
   "outputs": [
    {
     "name": "stdout",
     "output_type": "stream",
     "text": [
      "Predicted output: 5\n"
     ]
    }
   ],
   "source": [
    "# Do AXI DMA transfer\n",
    "dma_send.transfer(input_buffer)\n",
    "dma_recv.transfer(output_buffer)\n",
    "print(\"Predicted output: %d\" % (output_buffer[0]))"
   ]
  },
  {
   "cell_type": "code",
   "execution_count": 15,
   "id": "1397cf03",
   "metadata": {},
   "outputs": [
    {
     "name": "stdout",
     "output_type": "stream",
     "text": [
      "Time used for HW CNN: 0.0009090900421142578s\n"
     ]
    }
   ],
   "source": [
    "# Calculate computation time for HW accelerator CNN\n",
    "t1 = time()\n",
    "dma_send.transfer(input_buffer)\n",
    "dma_recv.transfer(output_buffer)\n",
    "t2 = time()\n",
    "t_diff_hw = t2 - t1\n",
    "print('Time used for HW CNN: {}s'.format(t_diff_hw))"
   ]
  },
  {
   "cell_type": "markdown",
   "id": "81775391",
   "metadata": {},
   "source": [
    "## 5. Evaluation\n",
    "Calculate the speedup factor for the HW accelerator."
   ]
  },
  {
   "cell_type": "code",
   "execution_count": 16,
   "id": "abb36002",
   "metadata": {},
   "outputs": [
    {
     "name": "stdout",
     "output_type": "stream",
     "text": [
      "Hardware acceleration speed up: 16.8x\n"
     ]
    }
   ],
   "source": [
    "print('Hardware acceleration speed up: {:.1f}x'.format(t_diff_sw/t_diff_hw))"
   ]
  },
  {
   "cell_type": "code",
   "execution_count": null,
   "id": "186fd6aa",
   "metadata": {},
   "outputs": [],
   "source": []
  }
 ],
 "metadata": {
  "kernelspec": {
   "display_name": "Python 3 (ipykernel)",
   "language": "python",
   "name": "python3"
  },
  "language_info": {
   "codemirror_mode": {
    "name": "ipython",
    "version": 3
   },
   "file_extension": ".py",
   "mimetype": "text/x-python",
   "name": "python",
   "nbconvert_exporter": "python",
   "pygments_lexer": "ipython3",
   "version": "3.10.12"
  }
 },
 "nbformat": 4,
 "nbformat_minor": 5
}
